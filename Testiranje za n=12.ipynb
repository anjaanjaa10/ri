{
 "cells": [
  {
   "cell_type": "code",
   "execution_count": 1,
   "id": "6055b77e",
   "metadata": {},
   "outputs": [
    {
     "name": "stdout",
     "output_type": "stream",
     "text": [
      "brute_force: Too complex!\n",
      "MSR1234: Kraj: Start Array: [5, 7, 11, 3, 9, 2, 12, 4, 10, 1, 6, 8] Najbolja jedinka[2, 11, 5, 8, 8, 10, 3, 5, 1, 5, 4, 8, 6, 11, 2, 10, 0, 6, 0, 10] Broj inverzija: 10.0 Sortirani niz:[1, 2, 3, 4, 5, 6, 7, 8, 9, 10, 11, 12] Vrednost fitnes funkcije: 200\n",
      "MSR234: Kraj: Start Array: [5, 7, 11, 3, 9, 2, 12, 4, 10, 1, 6, 8] Najbolja jedinka[4, 7, 7, 9, 1, 10, 6, 8, 2, 10, 3, 8, 3, 11, 0, 7, 0, 11] Broj inverzija: 9.0 Sortirani niz:[1, 2, 3, 4, 5, 6, 7, 8, 9, 10, 11, 12] Vrednost fitnes funkcije: 180\n",
      "MSR2: Kraj: Start Array: [5, 7, 11, 3, 9, 2, 12, 4, 10, 1, 6, 8] Najbolja jedinka[3, 6, 2, 3, 0, 4, 1, 4, 5, 8, 2, 6, 3, 7, 1, 9, 7, 11, 6, 7, 2, 5, 0, 11, 0, 1, 2, 11] Broj inverzija: 14.0 Sortirani niz:[4, 3, 2, 1, 12, 11, 10, 9, 8, 7, 6, 5] Vrednost fitnes funkcije: 330\n"
     ]
    }
   ],
   "source": [
    "%run moj_genetski.ipynb\n",
    "%run algoritam_grube_sile.ipynb\n",
    "\n",
    "def test_all_algorithms(n,t,test_bf):\n",
    "    array=random.sample(range(1,n+1),n)\n",
    "\n",
    "    if test_bf:\n",
    "        value1 = brute_force(array)\n",
    "    else:\n",
    "        value1 = \"Too complex!\"\n",
    "    value2 = genetic_algorithm(n,array,1,t)\n",
    "    value3 = genetic_algorithm(n,array,2,t)\n",
    "    value4 = genetic_algorithm(n,array,3,t)\n",
    "    \n",
    "    \n",
    "    \n",
    "    results = [value1, value2, value3, value4]\n",
    "\n",
    "    algorithm_names = [\"brute_force\", \"MSR1234\", \"MSR234\", \"MSR2\"]\n",
    "\n",
    "    for name, result in zip(algorithm_names, results):\n",
    "        print(f\"{name}: {result}\")\n",
    "test_all_algorithms(12,1,False)"
   ]
  }
 ],
 "metadata": {
  "kernelspec": {
   "display_name": "Python 3 (ipykernel)",
   "language": "python",
   "name": "python3"
  },
  "language_info": {
   "codemirror_mode": {
    "name": "ipython",
    "version": 3
   },
   "file_extension": ".py",
   "mimetype": "text/x-python",
   "name": "python",
   "nbconvert_exporter": "python",
   "pygments_lexer": "ipython3",
   "version": "3.8.10"
  }
 },
 "nbformat": 4,
 "nbformat_minor": 5
}

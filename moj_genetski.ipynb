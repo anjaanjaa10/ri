{
 "cells": [
  {
   "cell_type": "code",
   "execution_count": 1,
   "id": "65e5ab33",
   "metadata": {},
   "outputs": [
    {
     "data": {
      "text/plain": [
       "'Kraj: Start Array: [4, 1, 2, 5, 3, 6, 7, 9, 8, 10, 11, 12, 15, 14, 13] Najbolja jedinka[3, 4, 7, 8, 12, 14, 1, 3, 0, 3] Broj inverzija: 5.0 Sortirani niz:[1, 2, 3, 4, 5, 6, 7, 8, 9, 10, 11, 12, 13, 14, 15] Vrednost fitnes funkcije: 100\\n'"
      ]
     },
     "execution_count": 1,
     "metadata": {},
     "output_type": "execute_result"
    }
   ],
   "source": [
    "import math\n",
    "import random\n",
    "import copy\n",
    "import time\n",
    "\n",
    "from itertools import combinations\n",
    "from itertools import permutations\n",
    "import numpy as np\n",
    "class Individual:\n",
    "    def __init__(self,code,startArray):\n",
    "        self.codeWeight=10\n",
    "        self.breakPointsWeight=50\n",
    "        self.code=code\n",
    "        self.fix()\n",
    "        self.array = []\n",
    "        self.startArray = startArray\n",
    "        self.reverse_array()\n",
    "        self.breakpoints=self.get_break_points()\n",
    "        self.fitness=self.calculate_fitnes()\n",
    "        \n",
    "    def reverse_array(self):\n",
    "        self.array = copy.deepcopy(self.startArray)\n",
    "        for k in range(0,len(self.code),2):\n",
    "            i = self.code[k]\n",
    "            j = self.code[k+1]\n",
    "            for l in range(int((j-i+1)/2)):\n",
    "                self.array[i+l],self.array[j-l] = self.array[j-l],self.array[i+l]\n",
    "\n",
    "\n",
    "\n",
    "    def get_break_points(self):\n",
    "        breakPoints=0\n",
    "        for i in range(1,len(self.array)):\n",
    "            if abs(self.array[i-1]-self.array[i])>1:\n",
    "                breakPoints+=1\n",
    "        return breakPoints\n",
    "    \n",
    "    def fix(self):\n",
    "        \n",
    "        pom=[]\n",
    "        for i in range(len(self.code)):\n",
    "            if i%2==1:\n",
    "                if self.code[i]<self.code[i-1]:\n",
    "                    pom.append(self.code[i])\n",
    "                    pom.append(self.code[i-1])\n",
    "                elif self.code[i]>self.code[i-1]:\n",
    "                    pom.append(self.code[i-1])\n",
    "                    pom.append(self.code[i])\n",
    "         \n",
    "        if len(pom)>=2:\n",
    "            final=[pom[0],pom[1]]\n",
    "            segment=[pom[0],pom[1]]\n",
    "            for i in range(2,len(pom)):\n",
    "                if i%2==1 and  [pom[i-1],pom[i]]!=segment:\n",
    "                    final.append(pom[i-1])\n",
    "                    final.append(pom[i])\n",
    "                    segment=[pom[i-1],pom[i]]\n",
    "            self.code=final\n",
    "                \n",
    "        else :\n",
    "            self.code=pom\n",
    "    \n",
    "    def calculate_fitnes(self):\n",
    "        return self.breakPointsWeight*self.breakpoints+self.codeWeight*len(self.code)\n",
    "    \n",
    "class MSR:\n",
    "    def __init__(self,array,num):\n",
    "        self.populationSize=math.floor(len(array)*math.log(len(array))) #Velicina populacije je floor(n*log n)\n",
    "        self.array=array\n",
    "        self.breakPoints=self.get_break_points()\n",
    "        self.population=[]\n",
    "        self.initialize_population()\n",
    "        self.tournamentSize=math.ceil(0.15*self.populationSize)\n",
    "        self.bestIndividual = copy.deepcopy(self.population[0])\n",
    "        self.mutationRate = 0.35\n",
    "        self.numOfIters = 10000\n",
    "        self.populationSelectionPercentege=0.2\n",
    "        self.num=num\n",
    "      \n",
    "    def get_break_points(self):\n",
    "        breakPoints=0\n",
    "        for i in range(1,len(self.array)-1):\n",
    "            if abs(self.array[i-1]-self.array[i])>1:\n",
    "                breakPoints+=1\n",
    "        return breakPoints\n",
    "    \n",
    "    \n",
    "    def generate_individual(self,size):\n",
    "        code=[]\n",
    "        for i in range(size):\n",
    "            m=math.ceil(random.randrange(1,math.ceil(len(self.array)/10)+1))\n",
    "            n=math.ceil(random.randrange(0,math.ceil(9*len(self.array)/10-1)))\n",
    "            begin=n\n",
    "            end=m+n\n",
    "            code.append(begin)\n",
    "            code.append(end)\n",
    "        return Individual(code,self.array)\n",
    "            \n",
    "    def initialize_population(self):\n",
    "        lb=self.breakPoints\n",
    "        ub=3*len(self.array)\n",
    "        for i in range(self.populationSize):\n",
    "            size=random.randrange(lb,ub+1)\n",
    "            self.population.append(self.generate_individual(size))\n",
    "            \n",
    "    def selection(self,population):\n",
    "        \n",
    "        selected=random.sample(population,max(round(len(population)*(self.tournamentSize/self.populationSize)),1))\n",
    "\n",
    "        best=min(selected,key=lambda x:x.fitness)\n",
    "        \n",
    "        return best\n",
    "    \n",
    "    def crossover(self, parent1, parent2):\n",
    "        if not parent1  or not parent2:\n",
    "            return Individual([], self.array), Individual([], self.array)\n",
    "        \n",
    "          \n",
    "\n",
    "        if len(parent1) == len(parent2):\n",
    "            while True:\n",
    "                firstPoint = random.randrange(0, len(parent1))\n",
    "                secondPoint = random.randrange(0, len(parent1))\n",
    "                if firstPoint != secondPoint:\n",
    "                    break\n",
    "            if firstPoint > secondPoint:\n",
    "                firstPoint, secondPoint = secondPoint, firstPoint\n",
    "            child1 = parent1[:firstPoint] + parent2[firstPoint:secondPoint] + parent1[secondPoint:]\n",
    "            child2 = parent2[:firstPoint] + parent1[firstPoint:secondPoint] + parent2[secondPoint:]\n",
    "        else:\n",
    "            if len(parent1) < len(parent2):\n",
    "                parent1, parent2 = parent2, parent1\n",
    "            point = random.randrange(0, len(parent1) - len(parent2) + 1)\n",
    "            child1 = parent1[:point] + parent2 + parent1[point + len(parent2):]\n",
    "            child2 = parent1[point:point + len(parent2)]\n",
    "\n",
    "        return Individual(child1, self.array), Individual(child2, self.array)\n",
    "\n",
    "    def mutation1(self,individual):\n",
    "        while(True):\n",
    "            i = random.randrange(0,int(len(individual.code)/2))\n",
    "            j = random.randrange(0,int(len(individual.code)/2))\n",
    "            if i !=j: \n",
    "                break\n",
    "        if j < i :\n",
    "            i,j = j,i\n",
    "        i = 2*i\n",
    "        j = 2*j\n",
    "        for k in range(j,len(individual.code)-1):\n",
    "            individual.code[k] = individual.code[k+1]\n",
    "        del individual.code[-1]\n",
    "        for k in range(i,len(individual.code)-1):\n",
    "            individual.code[k] = individual.code[k+1]\n",
    "        del individual.code[-1]\n",
    "        \n",
    "        individual.fix()\n",
    "        individual.reverse_array()\n",
    "        individual.breakpoints =individual.get_break_points()\n",
    "        individual.fitness = individual.calculate_fitnes()\n",
    "\n",
    "   \n",
    "    def mutation2(self,individual):\n",
    "        while(True):\n",
    "            i = random.randrange(0,int(len(individual.code)/2))\n",
    "            j = random.randrange(0,int(len(individual.code)/2))\n",
    "            if i !=j:\n",
    "                break\n",
    "        if j < i :\n",
    "            i,j = j,i\n",
    "        i = 2*i\n",
    "        j = 2*j\n",
    "        while(True):\n",
    "            value1=random.randrange(0,len(individual.array))\n",
    "            value2=random.randrange(0,len(individual.array))\n",
    "            if value1!=value2:\n",
    "                break\n",
    "        individual.code.insert(i,value1)\n",
    "        individual.code.insert(j,value2)\n",
    "        individual.fix()\n",
    "        individual.reverse_array()\n",
    "        individual.breakpoints = individual.get_break_points()\n",
    "        individual.fitness = individual.calculate_fitnes()\n",
    "\n",
    "    def mutation3(self,individual): \n",
    "        \n",
    "        if len(individual.code) > 0:\n",
    "            i = random.randrange(0,len(individual.code))\n",
    "            individual.code[i] = random.randrange(0,len(individual.array))\n",
    "            individual.fix()\n",
    "            individual.reverse_array()\n",
    "            individual.breakpoints = individual.get_break_points()\n",
    "            individual.fitness = individual.calculate_fitnes()\n",
    "        \n",
    "    def mutation4(self,individual): \n",
    "        if len(individual.code)>=2:\n",
    "            [i,j]=random.sample(range(len(individual.code)),2)\n",
    "            [val1,val2]=random.sample(range(len(individual.array)),2)\n",
    "            individual.code[i] = val1\n",
    "            individual.code[j] = val2\n",
    "            individual.fix()\n",
    "            individual.reverse_array()\n",
    "            individual.breakpoints = individual.get_break_points()\n",
    "            individual.fitness = individual.calculate_fitnes()\n",
    "        \n",
    "    \n",
    "    def mutate1(self,individual):\n",
    "        choice=0\n",
    "        if random.random()< self.mutationRate:\n",
    "            choice=random.randrange(1,5)\n",
    "        if choice==1 and len(individual.code)>2:\n",
    "                self.mutation1(individual)\n",
    "        if choice==2 and len(individual.code)>2:\n",
    "                self.mutation2(individual)\n",
    "        if choice==3:\n",
    "                self.mutation3(individual)\n",
    "        if choice==4:\n",
    "                self.mutation4(individual)\n",
    "                \n",
    "                \n",
    "    def mutate2(self,individual):\n",
    "        choice=0\n",
    "        if random.random()< self.mutationRate:\n",
    "            choice=random.randrange(1,4)\n",
    "        if choice==1 and len(individual.code)>2:\n",
    "                self.mutation2(individual)\n",
    "        if choice==2:\n",
    "                self.mutation3(individual)\n",
    "        if choice==3:\n",
    "                self.mutation4(individual)\n",
    "                \n",
    "    def mutate3(self,unit):\n",
    "        choice=0\n",
    "        if random.random()< self.mutationRate:\n",
    "            choice=random.randrange(1,2)\n",
    "        if choice==1 and len(unit.code)>2:\n",
    "                self.mutation2(unit)\n",
    "#         if choice==2:\n",
    "#                 self.mutation3(unit)\n",
    "        \n",
    "       \n",
    "        \n",
    " \n",
    "    def generate_population(self):\n",
    "        population=[]\n",
    "        sorted(self.population,key=lambda x: x.fitness)\n",
    "        sizeGroup1=2*(math.floor(self.populationSelectionPercentege*self.populationSize)//2)\n",
    "        group1=self.population[:sizeGroup1]\n",
    "        group2=self.population[sizeGroup1:]\n",
    "        for i in range(0,int(sizeGroup1),2):\n",
    "            parent1 = self.selection(group1)\n",
    "            parent2 = self.selection(group1)\n",
    "            child1,child2 = self.crossover(parent1.code,parent2.code)\n",
    "            temp=[child1,child2,parent1,parent2]\n",
    "            sorted(temp,key=lambda x:x.fitness)\n",
    "            child1=copy.deepcopy(temp[0])\n",
    "            child2=copy.deepcopy(temp[1])\n",
    "            if self.num==1:\n",
    "                self.mutate1(child1)\n",
    "                self.mutate1(child2)\n",
    "            elif self.num==2:\n",
    "                self.mutate2(child1)\n",
    "                self.mutate2(child2)\n",
    "            else :\n",
    "                self.mutate3(child1)\n",
    "                self.mutate3(child2)\n",
    "                \n",
    "            population.append(child1)\n",
    "            population.append(child2)\n",
    "        while len(population)<self.populationSize:\n",
    "            parent1 = self.selection(group2)\n",
    "            parent2 = self.selection(group2)\n",
    "            child1,child2 = self.crossover(parent1.code,parent2.code)\n",
    "            temp=[child1,child2,parent1,parent2]\n",
    "            sorted(temp,key=lambda x:x.fitness)\n",
    "            child1=copy.deepcopy(temp[0])\n",
    "            child2=copy.deepcopy(temp[1])\n",
    "            if self.num==1:\n",
    "                self.mutate1(child1)\n",
    "                self.mutate1(child2)\n",
    "            elif self.num==2:\n",
    "                self.mutate2(child1)\n",
    "                self.mutate2(child2)\n",
    "            else :\n",
    "                self.mutate3(child1)\n",
    "                self.mutate3(child2)\n",
    "            population.append(child1)\n",
    "            population.append(child2)\n",
    "        self.population=copy.deepcopy(population)\n",
    "            \n",
    "            \n",
    "        \n",
    "    def best_solution(self):\n",
    "        best=min(self.population,key=lambda x:x.fitness)\n",
    "        return copy.deepcopy(best)\n",
    "\n",
    "    def solve(self,t):\n",
    "        fitnessRepetition=0\n",
    "        oldFitness=0\n",
    "        start_time = time.time()\n",
    "        elapsed_time = 0\n",
    "        duration_limit = t*60\n",
    "        self.initialize_population()\n",
    "        while elapsed_time<duration_limit:\n",
    "            best = self.best_solution()\n",
    "            fixed_best=Individual(best.code,self.array)\n",
    "            best=fixed_best\n",
    "            if best.fitness < self.bestIndividual.fitness:\n",
    "                self.bestIndividual = copy.deepcopy(best)\n",
    "            if oldFitness==best.fitness:\n",
    "                fitnessRepetition+=1\n",
    "            oldFitness=best.fitness\n",
    "            \n",
    "            self.generate_population()\n",
    "            elapsed_time=time.time()-start_time\n",
    "            \n",
    "        return self.bestIndividual\n",
    "\n",
    "\n",
    "\n",
    "\n",
    "def genetic_algorithm(n,array,k,t):    \n",
    "    \n",
    "    bestFitness=float('inf')\n",
    "\n",
    "    \n",
    "    \n",
    "\n",
    "    start=copy.deepcopy(array)\n",
    "    code=[]\n",
    "   \n",
    "    while bestFitness>25:\n",
    "        \n",
    "            msr=MSR(array,k)\n",
    "            individual=msr.solve(t)\n",
    "            bestFitness=individual.fitness\n",
    "            new_array=individual.array\n",
    "            code.append(individual.code)\n",
    "            array=new_array\n",
    "    \n",
    "    breakPoint = -1\n",
    "    for i in range(1,len(start)):\n",
    "        if abs(new_array[i-1]-new_array[i])>1:\n",
    "            breakPoint = i\n",
    "\n",
    "            \n",
    "    if breakPoint != -1:\n",
    "        if abs(new_array[0] - new_array[breakPoint]) == 1: \n",
    "            for l in range(int((breakPoint)/2)):\n",
    "                new_array[l],new_array[breakPoint-1-l] = new_array[breakPoint-1-l],new_array[l]\n",
    "            code.append([0])\n",
    "            code.append([breakPoint-1])\n",
    "\n",
    "        elif abs(new_array[breakPoint-1] - new_array[-1]) == 1: \n",
    "            for l in range(int((len(new_array)-breakPoint)/2)):\n",
    "                new_array[breakPoint+l],new_array[len(new_array)-1-l] = new_array[len(new_array)-1-l],new_array[breakPoint+l]\n",
    "            code.append([breakPoint])\n",
    "            code.append([len(new_array)-1])\n",
    "\n",
    "        else: \n",
    "            for l in range(int((breakPoint)/2)):\n",
    "                new_array[l],new_array[breakPoint-1-l] = new_array[breakPoint-1-l],new_array[l]\n",
    "            for l in range(int((len(new_array)-breakPoint)/2)):\n",
    "                new_array[breakPoint+l],new_array[len(new_array)-1-l] = new_array[len(new_array)-1-l],new_array[breakPoint+l]\n",
    "            code.append([0])\n",
    "            code.append([breakPoint-1])\n",
    "            code.append([breakPoint])\n",
    "            code.append([len(new_array)-1])\n",
    "\n",
    "    if new_array[0] > new_array[1]:\n",
    "        for i in range(int(len(new_array)/2)):\n",
    "            new_array[i],new_array[len(new_array)-1-i] = new_array[len(new_array)-1-i],new_array[i]\n",
    "        code.append([0])\n",
    "        code.append([len(new_array)-1])\n",
    "\n",
    "\n",
    "    pom=[item for sublist in code for item in sublist]\n",
    "            \n",
    "  \n",
    "\n",
    "    ind = Individual(pom,start)\n",
    "\n",
    "    return str(\"Kraj:\" + \" \" + \"Start Array: \" + str(start) + \" \" + \"Najbolja jedinka\" + str(ind.code)+ \" \" +\"Broj inverzija: \" + str(len(ind.code)/2)+ \" \" + \"Sortirani niz:\" + str(ind.array) + \" \" + \"Vrednost fitnes funkcije: \" + str(ind.fitness) + \"\\n\")\n",
    "\n",
    "\n",
    "genetic_algorithm(15,[4, 1, 2, 5, 3, 6, 7, 9, 8, 10, 11, 12 , 15, 14, 13],1,1)\n",
    "\n"
   ]
  },
  {
   "cell_type": "code",
   "execution_count": 2,
   "id": "d1d7a10e",
   "metadata": {},
   "outputs": [
    {
     "data": {
      "text/plain": [
       "'Kraj: Start Array: [4, 1, 2, 5, 3, 6, 7, 9, 8, 10, 11, 12, 15, 14, 13] Najbolja jedinka[0, 3, 7, 8, 0, 2, 2, 4, 12, 14] Broj inverzija: 5.0 Sortirani niz:[1, 2, 3, 4, 5, 6, 7, 8, 9, 10, 11, 12, 13, 14, 15] Vrednost fitnes funkcije: 100\\n'"
      ]
     },
     "execution_count": 2,
     "metadata": {},
     "output_type": "execute_result"
    }
   ],
   "source": [
    "genetic_algorithm(15,[4, 1, 2, 5, 3, 6, 7, 9, 8, 10, 11, 12 , 15, 14, 13],2,1)"
   ]
  },
  {
   "cell_type": "code",
   "execution_count": 3,
   "id": "0d1c881a",
   "metadata": {},
   "outputs": [
    {
     "data": {
      "text/plain": [
       "'Kraj: Start Array: [4, 1, 2, 5, 3, 6, 7, 9, 8, 10, 11, 12, 15, 14, 13] Najbolja jedinka[7, 8, 4, 11, 1, 11, 0, 8, 7, 9, 12, 14, 0, 11] Broj inverzija: 7.0 Sortirani niz:[1, 2, 3, 4, 5, 6, 7, 8, 9, 10, 11, 12, 13, 14, 15] Vrednost fitnes funkcije: 140\\n'"
      ]
     },
     "execution_count": 3,
     "metadata": {},
     "output_type": "execute_result"
    }
   ],
   "source": [
    "genetic_algorithm(15,[4, 1, 2, 5, 3, 6, 7, 9, 8, 10, 11, 12 , 15, 14, 13],3,1)"
   ]
  },
  {
   "cell_type": "code",
   "execution_count": 4,
   "id": "60fc77f0",
   "metadata": {},
   "outputs": [
    {
     "data": {
      "text/plain": [
       "'Kraj: Start Array: [4, 1, 2, 5, 3, 6, 7, 9, 8, 10, 11, 14, 12, 13] Najbolja jedinka[1, 6, 1, 3, 11, 12, 12, 13, 0, 13, 5, 9, 6, 11, 5, 9, 10, 13, 0, 13] Broj inverzija: 10.0 Sortirani niz:[1, 2, 3, 4, 5, 6, 7, 8, 9, 10, 11, 12, 13, 14] Vrednost fitnes funkcije: 200\\n'"
      ]
     },
     "execution_count": 4,
     "metadata": {},
     "output_type": "execute_result"
    }
   ],
   "source": [
    "genetic_algorithm(14,[4, 1, 2, 5, 3, 6, 7, 9, 8, 10, 11, 14, 12, 13],1,1)"
   ]
  },
  {
   "cell_type": "code",
   "execution_count": 5,
   "id": "9eb4fbbd",
   "metadata": {},
   "outputs": [
    {
     "data": {
      "text/plain": [
       "'Kraj: Start Array: [4, 1, 2, 5, 3, 6, 7, 9, 8, 10, 11, 14, 12, 13] Najbolja jedinka[7, 8, 3, 4, 12, 13, 1, 3, 0, 3, 11, 13] Broj inverzija: 6.0 Sortirani niz:[1, 2, 3, 4, 5, 6, 7, 8, 9, 10, 11, 12, 13, 14] Vrednost fitnes funkcije: 120\\n'"
      ]
     },
     "execution_count": 5,
     "metadata": {},
     "output_type": "execute_result"
    }
   ],
   "source": [
    "genetic_algorithm(14,[4, 1, 2, 5, 3, 6, 7, 9, 8, 10, 11, 14, 12, 13],2,1)"
   ]
  },
  {
   "cell_type": "code",
   "execution_count": 6,
   "id": "0d141b88",
   "metadata": {},
   "outputs": [
    {
     "data": {
      "text/plain": [
       "'Kraj: Start Array: [4, 1, 2, 5, 3, 6, 7, 9, 8, 10, 11, 14, 12, 13] Najbolja jedinka[8, 10, 4, 5, 8, 11, 8, 9, 5, 6, 3, 6, 1, 6, 0, 3, 7, 9, 8, 13, 1, 13, 8, 13, 0, 7, 0, 13] Broj inverzija: 14.0 Sortirani niz:[1, 2, 3, 4, 5, 6, 7, 8, 9, 10, 11, 12, 13, 14] Vrednost fitnes funkcije: 280\\n'"
      ]
     },
     "execution_count": 6,
     "metadata": {},
     "output_type": "execute_result"
    }
   ],
   "source": [
    "genetic_algorithm(14,[4, 1, 2, 5, 3, 6, 7, 9, 8, 10, 11, 14, 12, 13],3,1)"
   ]
  },
  {
   "cell_type": "code",
   "execution_count": 7,
   "id": "e2a5b9ee",
   "metadata": {},
   "outputs": [
    {
     "data": {
      "text/plain": [
       "'Kraj: Start Array: [4, 1, 2, 5, 3, 6, 7, 10, 8, 9, 11, 12, 13] Najbolja jedinka[3, 4, 1, 12, 4, 5, 4, 6, 1, 9, 0, 9, 0, 12] Broj inverzija: 7.0 Sortirani niz:[1, 2, 3, 4, 5, 6, 7, 8, 9, 10, 11, 12, 13] Vrednost fitnes funkcije: 140\\n'"
      ]
     },
     "execution_count": 7,
     "metadata": {},
     "output_type": "execute_result"
    }
   ],
   "source": [
    "genetic_algorithm(13,[4, 1, 2, 5, 3, 6, 7, 10, 8, 9, 11, 12, 13],1,1)"
   ]
  },
  {
   "cell_type": "code",
   "execution_count": 8,
   "id": "9ac9b622",
   "metadata": {},
   "outputs": [
    {
     "data": {
      "text/plain": [
       "'Kraj: Start Array: [4, 1, 2, 5, 3, 6, 7, 10, 8, 9, 11, 12, 13] Najbolja jedinka[7, 8, 8, 9, 3, 4, 1, 3, 0, 3] Broj inverzija: 5.0 Sortirani niz:[1, 2, 3, 4, 5, 6, 7, 8, 9, 10, 11, 12, 13] Vrednost fitnes funkcije: 100\\n'"
      ]
     },
     "execution_count": 8,
     "metadata": {},
     "output_type": "execute_result"
    }
   ],
   "source": [
    "genetic_algorithm(13,[4, 1, 2, 5, 3, 6, 7, 10, 8, 9, 11, 12, 13],2,1)"
   ]
  },
  {
   "cell_type": "code",
   "execution_count": 9,
   "id": "4fb549a5",
   "metadata": {},
   "outputs": [
    {
     "data": {
      "text/plain": [
       "'Kraj: Start Array: [4, 1, 2, 5, 3, 6, 7, 10, 8, 9, 11, 12, 13] Najbolja jedinka[3, 4, 7, 8, 8, 9, 0, 3, 0, 2] Broj inverzija: 5.0 Sortirani niz:[1, 2, 3, 4, 5, 6, 7, 8, 9, 10, 11, 12, 13] Vrednost fitnes funkcije: 100\\n'"
      ]
     },
     "execution_count": 9,
     "metadata": {},
     "output_type": "execute_result"
    }
   ],
   "source": [
    "genetic_algorithm(13,[4, 1, 2, 5, 3, 6, 7, 10, 8, 9, 11, 12, 13],3,1)"
   ]
  },
  {
   "cell_type": "code",
   "execution_count": null,
   "id": "151a23fb",
   "metadata": {},
   "outputs": [],
   "source": [
    "33"
   ]
  }
 ],
 "metadata": {
  "kernelspec": {
   "display_name": "Python 3 (ipykernel)",
   "language": "python",
   "name": "python3"
  },
  "language_info": {
   "codemirror_mode": {
    "name": "ipython",
    "version": 3
   },
   "file_extension": ".py",
   "mimetype": "text/x-python",
   "name": "python",
   "nbconvert_exporter": "python",
   "pygments_lexer": "ipython3",
   "version": "3.8.10"
  }
 },
 "nbformat": 4,
 "nbformat_minor": 5
}

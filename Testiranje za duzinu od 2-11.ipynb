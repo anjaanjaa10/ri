{
 "cells": [
  {
   "cell_type": "code",
   "execution_count": 7,
   "id": "64563cf2",
   "metadata": {},
   "outputs": [
    {
     "name": "stdout",
     "output_type": "stream",
     "text": [
      "brute_force: ([], inf)\n",
      "MSR1234: Kraj: Start Array: [1, 2] Najbolja jedinka[] Broj inverzija: 0.0 Sortirani niz:[1, 2] Vrednost fitnes funkcije: 0\n",
      "MSR234: Kraj: Start Array: [1, 2] Najbolja jedinka[] Broj inverzija: 0.0 Sortirani niz:[1, 2] Vrednost fitnes funkcije: 0\n",
      "MSR2: Kraj: Start Array: [1, 2] Najbolja jedinka[] Broj inverzija: 0.0 Sortirani niz:[1, 2] Vrednost fitnes funkcije: 0\n",
      "\n",
      "\n",
      "brute_force: ([(0, 1), (1, 2)], 2)\n",
      "MSR1234: Kraj: Start Array: [3, 1, 2] Najbolja jedinka[1, 2, 0, 2] Broj inverzija: 2.0 Sortirani niz:[1, 2, 3] Vrednost fitnes funkcije: 40\n",
      "MSR234: Kraj: Start Array: [3, 1, 2] Najbolja jedinka[1, 2, 0, 2] Broj inverzija: 2.0 Sortirani niz:[1, 2, 3] Vrednost fitnes funkcije: 40\n",
      "MSR2: Kraj: Start Array: [3, 1, 2] Najbolja jedinka[1, 2, 0, 2] Broj inverzija: 2.0 Sortirani niz:[1, 2, 3] Vrednost fitnes funkcije: 40\n",
      "\n",
      "\n",
      "brute_force: ([(0, 3)], 1)\n",
      "MSR1234: Kraj: Start Array: [4, 3, 2, 1] Najbolja jedinka[0, 3] Broj inverzija: 1.0 Sortirani niz:[1, 2, 3, 4] Vrednost fitnes funkcije: 20\n",
      "MSR234: Kraj: Start Array: [4, 3, 2, 1] Najbolja jedinka[0, 3] Broj inverzija: 1.0 Sortirani niz:[1, 2, 3, 4] Vrednost fitnes funkcije: 20\n",
      "MSR2: Kraj: Start Array: [4, 3, 2, 1] Najbolja jedinka[0, 3] Broj inverzija: 1.0 Sortirani niz:[1, 2, 3, 4] Vrednost fitnes funkcije: 20\n",
      "\n",
      "\n"
     ]
    }
   ],
   "source": [
    "%run moj_genetski.ipynb\n",
    "%run algoritam_grube_sile.ipynb\n",
    "\n",
    "def test_all_algorithms(n,t,test_bf):\n",
    "    array=random.sample(range(1,n+1),n)\n",
    "\n",
    "    if test_bf:\n",
    "        value1 = brute_force(array)\n",
    "    else:\n",
    "        value1 = \"Too complex!\"\n",
    "    value2 = genetic_algorithm(n,array,1,t)\n",
    "    value3 = genetic_algorithm(n,array,2,t)\n",
    "    value4 = genetic_algorithm(n,array,3,t)\n",
    "    \n",
    "    \n",
    "    \n",
    "    results = [value1, value2, value3, value4]\n",
    "\n",
    "    algorithm_names = [\"brute_force\", \"MSR1234\", \"MSR234\", \"MSR2\"]\n",
    "\n",
    "    for name, result in zip(algorithm_names, results):\n",
    "        print(f\"{name}: {result}\")\n",
    "    print(\"\\n\")\n",
    "test_all_algorithms(2,0.05,True)\n",
    "test_all_algorithms(3,0.05,True)\n",
    "\n",
    "test_all_algorithms(4,0.1,True)\n"
   ]
  },
  {
   "cell_type": "code",
   "execution_count": 2,
   "id": "31080adf",
   "metadata": {},
   "outputs": [
    {
     "name": "stdout",
     "output_type": "stream",
     "text": [
      "brute_force: ([(3, 4)], 1)\n",
      "MSR1234: Kraj: Start Array: [1, 2, 3, 5, 4] Najbolja jedinka[3, 4] Broj inverzija: 1.0 Sortirani niz:[1, 2, 3, 4, 5] Vrednost fitnes funkcije: 20\n",
      "MSR234: Kraj: Start Array: [1, 2, 3, 5, 4] Najbolja jedinka[3, 4] Broj inverzija: 1.0 Sortirani niz:[1, 2, 3, 4, 5] Vrednost fitnes funkcije: 20\n",
      "MSR2: Kraj: Start Array: [1, 2, 3, 5, 4] Najbolja jedinka[3, 4] Broj inverzija: 1.0 Sortirani niz:[1, 2, 3, 4, 5] Vrednost fitnes funkcije: 20\n"
     ]
    }
   ],
   "source": [
    "test_all_algorithms(5,0.5,True)"
   ]
  },
  {
   "cell_type": "code",
   "execution_count": 3,
   "id": "b11f649f",
   "metadata": {},
   "outputs": [
    {
     "name": "stdout",
     "output_type": "stream",
     "text": [
      "brute_force: Too complex!\n",
      "MSR1234: Kraj: Start Array: [5, 4, 1, 2, 3, 6] Najbolja jedinka[2, 4, 0, 4] Broj inverzija: 2.0 Sortirani niz:[1, 2, 3, 4, 5, 6] Vrednost fitnes funkcije: 40\n",
      "MSR234: Kraj: Start Array: [5, 4, 1, 2, 3, 6] Najbolja jedinka[0, 4, 0, 2] Broj inverzija: 2.0 Sortirani niz:[1, 2, 3, 4, 5, 6] Vrednost fitnes funkcije: 40\n",
      "MSR2: Kraj: Start Array: [5, 4, 1, 2, 3, 6] Najbolja jedinka[2, 4, 0, 4] Broj inverzija: 2.0 Sortirani niz:[1, 2, 3, 4, 5, 6] Vrednost fitnes funkcije: 40\n"
     ]
    }
   ],
   "source": [
    "test_all_algorithms(6,0.2,False)"
   ]
  },
  {
   "cell_type": "code",
   "execution_count": 4,
   "id": "0bcc435e",
   "metadata": {},
   "outputs": [
    {
     "name": "stdout",
     "output_type": "stream",
     "text": [
      "brute_force: Too complex!\n",
      "MSR1234: Kraj: Start Array: [2, 6, 1, 4, 7, 5, 3] Najbolja jedinka[4, 5, 0, 5, 1, 3, 1, 4, 4, 6, 0, 6] Broj inverzija: 6.0 Sortirani niz:[1, 2, 3, 4, 5, 6, 7] Vrednost fitnes funkcije: 120\n",
      "MSR234: Kraj: Start Array: [2, 6, 1, 4, 7, 5, 3] Najbolja jedinka[4, 5, 3, 5, 1, 2, 2, 3, 2, 6, 0, 1] Broj inverzija: 6.0 Sortirani niz:[1, 2, 3, 4, 5, 6, 7] Vrednost fitnes funkcije: 120\n",
      "MSR2: Kraj: Start Array: [2, 6, 1, 4, 7, 5, 3] Najbolja jedinka[1, 5, 1, 4, 2, 3, 3, 5, 2, 6, 0, 1] Broj inverzija: 6.0 Sortirani niz:[1, 2, 3, 4, 5, 6, 7] Vrednost fitnes funkcije: 120\n"
     ]
    }
   ],
   "source": [
    "test_all_algorithms(7,0.2,False)"
   ]
  },
  {
   "cell_type": "code",
   "execution_count": 9,
   "id": "4b9232f3",
   "metadata": {},
   "outputs": [
    {
     "name": "stdout",
     "output_type": "stream",
     "text": [
      "brute_force: Too complex!\n",
      "MSR1234: Kraj: Start Array: [6, 2, 1, 5, 3, 8, 4, 7] Najbolja jedinka[1, 3, 5, 6, 2, 5, 0, 5, 6, 7] Broj inverzija: 5.0 Sortirani niz:[1, 2, 3, 4, 5, 6, 7, 8] Vrednost fitnes funkcije: 100\n",
      "MSR234: Kraj: Start Array: [6, 2, 1, 5, 3, 8, 4, 7] Najbolja jedinka[1, 3, 0, 6, 0, 4, 4, 6, 3, 6, 6, 7] Broj inverzija: 6.0 Sortirani niz:[1, 2, 3, 4, 5, 6, 7, 8] Vrednost fitnes funkcije: 120\n",
      "MSR2: Kraj: Start Array: [6, 2, 1, 5, 3, 8, 4, 7] Najbolja jedinka[1, 7, 2, 3, 3, 4, 6, 7, 1, 7, 3, 5, 1, 5, 0, 7, 6, 7, 0, 5] Broj inverzija: 10.0 Sortirani niz:[4, 3, 2, 1, 8, 7, 6, 5] Vrednost fitnes funkcije: 250\n"
     ]
    }
   ],
   "source": [
    "test_all_algorithms(8,0.2,False)"
   ]
  },
  {
   "cell_type": "code",
   "execution_count": 10,
   "id": "ba5d4a16",
   "metadata": {},
   "outputs": [
    {
     "name": "stdout",
     "output_type": "stream",
     "text": [
      "brute_force: Too complex!\n",
      "MSR1234: Kraj: Start Array: [9, 5, 4, 2, 1, 3, 6, 7, 8] Najbolja jedinka[3, 4, 3, 5, 1, 8, 4, 8, 0, 8] Broj inverzija: 5.0 Sortirani niz:[1, 2, 3, 4, 5, 6, 7, 8, 9] Vrednost fitnes funkcije: 100\n",
      "MSR234: Kraj: Start Array: [9, 5, 4, 2, 1, 3, 6, 7, 8] Najbolja jedinka[1, 8, 3, 7, 4, 8, 3, 5, 7, 8, 0, 8] Broj inverzija: 6.0 Sortirani niz:[1, 2, 3, 4, 5, 6, 7, 8, 9] Vrednost fitnes funkcije: 120\n",
      "MSR2: Kraj: Start Array: [9, 5, 4, 2, 1, 3, 6, 7, 8] Najbolja jedinka[1, 5, 2, 3, 1, 8, 6, 8, 0, 8] Broj inverzija: 5.0 Sortirani niz:[1, 2, 3, 4, 5, 6, 7, 8, 9] Vrednost fitnes funkcije: 100\n"
     ]
    }
   ],
   "source": [
    "test_all_algorithms(9,0.5,False)"
   ]
  },
  {
   "cell_type": "code",
   "execution_count": 11,
   "id": "10a6a1b2",
   "metadata": {},
   "outputs": [
    {
     "name": "stdout",
     "output_type": "stream",
     "text": [
      "brute_force: Too complex!\n",
      "MSR1234: Kraj: Start Array: [8, 3, 6, 1, 9, 10, 4, 2, 7, 5] Najbolja jedinka[4, 8, 1, 5, 1, 4, 2, 3, 1, 8, 0, 6, 4, 9] Broj inverzija: 7.0 Sortirani niz:[1, 2, 3, 4, 5, 6, 7, 8, 9, 10] Vrednost fitnes funkcije: 140\n",
      "MSR234: Kraj: Start Array: [8, 3, 6, 1, 9, 10, 4, 2, 7, 5] Najbolja jedinka[1, 5, 4, 7, 5, 6, 3, 6, 7, 8, 0, 6, 4, 5, 4, 9] Broj inverzija: 8.0 Sortirani niz:[1, 2, 3, 4, 5, 6, 7, 8, 9, 10] Vrednost fitnes funkcije: 160\n",
      "MSR2: Kraj: Start Array: [8, 3, 6, 1, 9, 10, 4, 2, 7, 5] Najbolja jedinka[2, 8, 1, 3, 1, 6, 0, 7, 3, 7, 2, 7, 4, 9] Broj inverzija: 7.0 Sortirani niz:[1, 2, 3, 4, 5, 6, 7, 8, 9, 10] Vrednost fitnes funkcije: 140\n"
     ]
    }
   ],
   "source": [
    "test_all_algorithms(10,0.5,False)"
   ]
  },
  {
   "cell_type": "code",
   "execution_count": 12,
   "id": "695a69c2",
   "metadata": {},
   "outputs": [
    {
     "name": "stdout",
     "output_type": "stream",
     "text": [
      "brute_force: Too complex!\n",
      "MSR1234: Kraj: Start Array: [3, 10, 5, 4, 11, 7, 2, 6, 9, 1, 8] Najbolja jedinka[1, 3, 5, 6, 0, 2, 3, 5, 8, 9, 6, 9, 7, 10, 4, 10, 0, 4] Broj inverzija: 9.0 Sortirani niz:[1, 2, 3, 4, 5, 6, 7, 8, 9, 10, 11] Vrednost fitnes funkcije: 180\n",
      "MSR234: Kraj: Start Array: [3, 10, 5, 4, 11, 7, 2, 6, 9, 1, 8] Najbolja jedinka[1, 3, 3, 6, 5, 7, 4, 9, 0, 2, 6, 7, 0, 7, 3, 10, 0, 10] Broj inverzija: 9.0 Sortirani niz:[1, 2, 3, 4, 5, 6, 7, 8, 9, 10, 11] Vrednost fitnes funkcije: 180\n",
      "MSR2: Kraj: Start Array: [3, 10, 5, 4, 11, 7, 2, 6, 9, 1, 8] Najbolja jedinka[2, 6, 4, 10, 1, 9, 5, 7, 0, 3, 4, 8, 8, 10, 6, 9, 0, 7, 2, 10, 0, 10] Broj inverzija: 11.0 Sortirani niz:[1, 2, 3, 4, 5, 6, 7, 8, 9, 10, 11] Vrednost fitnes funkcije: 220\n"
     ]
    }
   ],
   "source": [
    "test_all_algorithms(11,1,False)"
   ]
  },
  {
   "cell_type": "code",
   "execution_count": null,
   "id": "30f86c35",
   "metadata": {},
   "outputs": [],
   "source": []
  }
 ],
 "metadata": {
  "kernelspec": {
   "display_name": "Python 3 (ipykernel)",
   "language": "python",
   "name": "python3"
  },
  "language_info": {
   "codemirror_mode": {
    "name": "ipython",
    "version": 3
   },
   "file_extension": ".py",
   "mimetype": "text/x-python",
   "name": "python",
   "nbconvert_exporter": "python",
   "pygments_lexer": "ipython3",
   "version": "3.8.10"
  }
 },
 "nbformat": 4,
 "nbformat_minor": 5
}

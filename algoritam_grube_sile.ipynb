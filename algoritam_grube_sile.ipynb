{
 "cells": [
  {
   "cell_type": "code",
   "execution_count": 1,
   "id": "3a265ca5",
   "metadata": {},
   "outputs": [
    {
     "data": {
      "text/plain": [
       "([(0, 1), (3, 4), (0, 3)], 3)"
      ]
     },
     "execution_count": 1,
     "metadata": {},
     "output_type": "execute_result"
    }
   ],
   "source": [
    "import itertools\n",
    "import copy\n",
    "import numpy as np\n",
    "\n",
    "def generate_permutations_with_varying_lengths(arr):\n",
    "    permutations = []\n",
    "    n = len(arr)\n",
    "\n",
    "    def generate(current_permutation, remaining_elements):\n",
    "        if len(current_permutation) > 0:\n",
    "            permutations.append(list(current_permutation))\n",
    "\n",
    "        for i in range(len(remaining_elements)):\n",
    "            next_permutation = current_permutation + [remaining_elements[i]]\n",
    "            next_remaining = remaining_elements[:i] + remaining_elements[i+1:]\n",
    "            generate(next_permutation, next_remaining)\n",
    "\n",
    "    generate([], arr)\n",
    "\n",
    "    return permutations\n",
    "\n",
    "\n",
    "def apply_inversions(arr, inversion_pairs):\n",
    "    t=copy.deepcopy(arr)\n",
    "    for pair in inversion_pairs:\n",
    "        i, j = pair\n",
    "        t[i:j + 1] = t[i:j + 1][::-1]  \n",
    "    return t\n",
    "\n",
    "\n",
    "def is_sorted(arr):\n",
    "    n = len(arr)\n",
    "    for i in range(1, n):\n",
    "        if arr[i] < arr[i - 1]:\n",
    "            return False\n",
    "    return True\n",
    "\n",
    "def generate_inversions(n):\n",
    "    pairs = set()\n",
    "    arr=[i for i in range(n)]\n",
    "\n",
    "    for pair in itertools.combinations(arr, 2):\n",
    "        sorted_pair = tuple(sorted(pair))  \n",
    "        pairs.add(sorted_pair)\n",
    "\n",
    "    return list(pairs)\n",
    "\n",
    "\n",
    "\n",
    "def brute_force(array):\n",
    "    num_of_inversions=np.inf\n",
    "    pom=[]\n",
    "    all_inversions=generate_permutations_with_varying_lengths(generate_inversions(len(array)))\n",
    "    for inversion in all_inversions:\n",
    "        if len(inversion)>num_of_inversions:\n",
    "            continue\n",
    "        new_array=apply_inversions(array,inversion)\n",
    "        if is_sorted(new_array):\n",
    "            if len(inversion)<num_of_inversions:\n",
    "                num_of_inversions=len(inversion)\n",
    "                pom=inversion\n",
    "    return pom,num_of_inversions\n",
    "\n",
    "\n",
    "\n",
    "brute_force([3, 4, 2, 5, 1])"
   ]
  },
  {
   "cell_type": "code",
   "execution_count": null,
   "id": "ba85e629",
   "metadata": {},
   "outputs": [],
   "source": []
  }
 ],
 "metadata": {
  "kernelspec": {
   "display_name": "Python 3 (ipykernel)",
   "language": "python",
   "name": "python3"
  },
  "language_info": {
   "codemirror_mode": {
    "name": "ipython",
    "version": 3
   },
   "file_extension": ".py",
   "mimetype": "text/x-python",
   "name": "python",
   "nbconvert_exporter": "python",
   "pygments_lexer": "ipython3",
   "version": "3.8.10"
  }
 },
 "nbformat": 4,
 "nbformat_minor": 5
}
